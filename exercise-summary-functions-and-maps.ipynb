{
 "cells": [
  {
   "cell_type": "markdown",
   "id": "fc3c28c5",
   "metadata": {
    "papermill": {
     "duration": 0.007662,
     "end_time": "2022-09-30T12:47:01.188408",
     "exception": false,
     "start_time": "2022-09-30T12:47:01.180746",
     "status": "completed"
    },
    "tags": []
   },
   "source": [
    "**This notebook is an exercise in the [Pandas](https://www.kaggle.com/learn/pandas) course.  You can reference the tutorial at [this link](https://www.kaggle.com/residentmario/summary-functions-and-maps).**\n",
    "\n",
    "---\n"
   ]
  },
  {
   "cell_type": "markdown",
   "id": "00ade739",
   "metadata": {
    "papermill": {
     "duration": 0.005627,
     "end_time": "2022-09-30T12:47:01.200173",
     "exception": false,
     "start_time": "2022-09-30T12:47:01.194546",
     "status": "completed"
    },
    "tags": []
   },
   "source": [
    "# Introduction\n",
    "\n",
    "Now you are ready to get a deeper understanding of your data.\n",
    "\n",
    "Run the following cell to load your data and some utility functions (including code to check your answers)."
   ]
  },
  {
   "cell_type": "code",
   "execution_count": 1,
   "id": "929ba797",
   "metadata": {
    "execution": {
     "iopub.execute_input": "2022-09-30T12:47:01.214370Z",
     "iopub.status.busy": "2022-09-30T12:47:01.213229Z",
     "iopub.status.idle": "2022-09-30T12:47:08.270687Z",
     "shell.execute_reply": "2022-09-30T12:47:08.269456Z"
    },
    "papermill": {
     "duration": 7.067869,
     "end_time": "2022-09-30T12:47:08.273898",
     "exception": false,
     "start_time": "2022-09-30T12:47:01.206029",
     "status": "completed"
    },
    "tags": []
   },
   "outputs": [
    {
     "name": "stdout",
     "output_type": "stream",
     "text": [
      "Setup complete.\n"
     ]
    },
    {
     "data": {
      "text/html": [
       "<div>\n",
       "<style scoped>\n",
       "    .dataframe tbody tr th:only-of-type {\n",
       "        vertical-align: middle;\n",
       "    }\n",
       "\n",
       "    .dataframe tbody tr th {\n",
       "        vertical-align: top;\n",
       "    }\n",
       "\n",
       "    .dataframe thead th {\n",
       "        text-align: right;\n",
       "    }\n",
       "</style>\n",
       "<table border=\"1\" class=\"dataframe\">\n",
       "  <thead>\n",
       "    <tr style=\"text-align: right;\">\n",
       "      <th></th>\n",
       "      <th>country</th>\n",
       "      <th>description</th>\n",
       "      <th>designation</th>\n",
       "      <th>points</th>\n",
       "      <th>price</th>\n",
       "      <th>province</th>\n",
       "      <th>region_1</th>\n",
       "      <th>region_2</th>\n",
       "      <th>taster_name</th>\n",
       "      <th>taster_twitter_handle</th>\n",
       "      <th>title</th>\n",
       "      <th>variety</th>\n",
       "      <th>winery</th>\n",
       "    </tr>\n",
       "  </thead>\n",
       "  <tbody>\n",
       "    <tr>\n",
       "      <th>0</th>\n",
       "      <td>Italy</td>\n",
       "      <td>Aromas include tropical fruit, broom, brimston...</td>\n",
       "      <td>Vulkà Bianco</td>\n",
       "      <td>87</td>\n",
       "      <td>NaN</td>\n",
       "      <td>Sicily &amp; Sardinia</td>\n",
       "      <td>Etna</td>\n",
       "      <td>NaN</td>\n",
       "      <td>Kerin O’Keefe</td>\n",
       "      <td>@kerinokeefe</td>\n",
       "      <td>Nicosia 2013 Vulkà Bianco  (Etna)</td>\n",
       "      <td>White Blend</td>\n",
       "      <td>Nicosia</td>\n",
       "    </tr>\n",
       "    <tr>\n",
       "      <th>1</th>\n",
       "      <td>Portugal</td>\n",
       "      <td>This is ripe and fruity, a wine that is smooth...</td>\n",
       "      <td>Avidagos</td>\n",
       "      <td>87</td>\n",
       "      <td>15.0</td>\n",
       "      <td>Douro</td>\n",
       "      <td>NaN</td>\n",
       "      <td>NaN</td>\n",
       "      <td>Roger Voss</td>\n",
       "      <td>@vossroger</td>\n",
       "      <td>Quinta dos Avidagos 2011 Avidagos Red (Douro)</td>\n",
       "      <td>Portuguese Red</td>\n",
       "      <td>Quinta dos Avidagos</td>\n",
       "    </tr>\n",
       "    <tr>\n",
       "      <th>2</th>\n",
       "      <td>US</td>\n",
       "      <td>Tart and snappy, the flavors of lime flesh and...</td>\n",
       "      <td>NaN</td>\n",
       "      <td>87</td>\n",
       "      <td>14.0</td>\n",
       "      <td>Oregon</td>\n",
       "      <td>Willamette Valley</td>\n",
       "      <td>Willamette Valley</td>\n",
       "      <td>Paul Gregutt</td>\n",
       "      <td>@paulgwine</td>\n",
       "      <td>Rainstorm 2013 Pinot Gris (Willamette Valley)</td>\n",
       "      <td>Pinot Gris</td>\n",
       "      <td>Rainstorm</td>\n",
       "    </tr>\n",
       "    <tr>\n",
       "      <th>3</th>\n",
       "      <td>US</td>\n",
       "      <td>Pineapple rind, lemon pith and orange blossom ...</td>\n",
       "      <td>Reserve Late Harvest</td>\n",
       "      <td>87</td>\n",
       "      <td>13.0</td>\n",
       "      <td>Michigan</td>\n",
       "      <td>Lake Michigan Shore</td>\n",
       "      <td>NaN</td>\n",
       "      <td>Alexander Peartree</td>\n",
       "      <td>NaN</td>\n",
       "      <td>St. Julian 2013 Reserve Late Harvest Riesling ...</td>\n",
       "      <td>Riesling</td>\n",
       "      <td>St. Julian</td>\n",
       "    </tr>\n",
       "    <tr>\n",
       "      <th>4</th>\n",
       "      <td>US</td>\n",
       "      <td>Much like the regular bottling from 2012, this...</td>\n",
       "      <td>Vintner's Reserve Wild Child Block</td>\n",
       "      <td>87</td>\n",
       "      <td>65.0</td>\n",
       "      <td>Oregon</td>\n",
       "      <td>Willamette Valley</td>\n",
       "      <td>Willamette Valley</td>\n",
       "      <td>Paul Gregutt</td>\n",
       "      <td>@paulgwine</td>\n",
       "      <td>Sweet Cheeks 2012 Vintner's Reserve Wild Child...</td>\n",
       "      <td>Pinot Noir</td>\n",
       "      <td>Sweet Cheeks</td>\n",
       "    </tr>\n",
       "  </tbody>\n",
       "</table>\n",
       "</div>"
      ],
      "text/plain": [
       "    country                                        description  \\\n",
       "0     Italy  Aromas include tropical fruit, broom, brimston...   \n",
       "1  Portugal  This is ripe and fruity, a wine that is smooth...   \n",
       "2        US  Tart and snappy, the flavors of lime flesh and...   \n",
       "3        US  Pineapple rind, lemon pith and orange blossom ...   \n",
       "4        US  Much like the regular bottling from 2012, this...   \n",
       "\n",
       "                          designation  points  price           province  \\\n",
       "0                        Vulkà Bianco      87    NaN  Sicily & Sardinia   \n",
       "1                            Avidagos      87   15.0              Douro   \n",
       "2                                 NaN      87   14.0             Oregon   \n",
       "3                Reserve Late Harvest      87   13.0           Michigan   \n",
       "4  Vintner's Reserve Wild Child Block      87   65.0             Oregon   \n",
       "\n",
       "              region_1           region_2         taster_name  \\\n",
       "0                 Etna                NaN       Kerin O’Keefe   \n",
       "1                  NaN                NaN          Roger Voss   \n",
       "2    Willamette Valley  Willamette Valley        Paul Gregutt   \n",
       "3  Lake Michigan Shore                NaN  Alexander Peartree   \n",
       "4    Willamette Valley  Willamette Valley        Paul Gregutt   \n",
       "\n",
       "  taster_twitter_handle                                              title  \\\n",
       "0          @kerinokeefe                  Nicosia 2013 Vulkà Bianco  (Etna)   \n",
       "1            @vossroger      Quinta dos Avidagos 2011 Avidagos Red (Douro)   \n",
       "2           @paulgwine       Rainstorm 2013 Pinot Gris (Willamette Valley)   \n",
       "3                   NaN  St. Julian 2013 Reserve Late Harvest Riesling ...   \n",
       "4           @paulgwine   Sweet Cheeks 2012 Vintner's Reserve Wild Child...   \n",
       "\n",
       "          variety               winery  \n",
       "0     White Blend              Nicosia  \n",
       "1  Portuguese Red  Quinta dos Avidagos  \n",
       "2      Pinot Gris            Rainstorm  \n",
       "3        Riesling           St. Julian  \n",
       "4      Pinot Noir         Sweet Cheeks  "
      ]
     },
     "execution_count": 1,
     "metadata": {},
     "output_type": "execute_result"
    }
   ],
   "source": [
    "import pandas as pd\n",
    "pd.set_option(\"display.max_rows\", 5)\n",
    "reviews = pd.read_csv(\"../input/wine-reviews/winemag-data-130k-v2.csv\", index_col=0)\n",
    "\n",
    "from learntools.core import binder; binder.bind(globals())\n",
    "from learntools.pandas.summary_functions_and_maps import *\n",
    "print(\"Setup complete.\")\n",
    "\n",
    "reviews.head()"
   ]
  },
  {
   "cell_type": "markdown",
   "id": "cc2c45a8",
   "metadata": {
    "papermill": {
     "duration": 0.006095,
     "end_time": "2022-09-30T12:47:08.286617",
     "exception": false,
     "start_time": "2022-09-30T12:47:08.280522",
     "status": "completed"
    },
    "tags": []
   },
   "source": [
    "# Exercises"
   ]
  },
  {
   "cell_type": "markdown",
   "id": "58d9f671",
   "metadata": {
    "papermill": {
     "duration": 0.006111,
     "end_time": "2022-09-30T12:47:08.298969",
     "exception": false,
     "start_time": "2022-09-30T12:47:08.292858",
     "status": "completed"
    },
    "tags": []
   },
   "source": [
    "## 1.\n",
    "\n",
    "What is the median of the `points` column in the `reviews` DataFrame?"
   ]
  },
  {
   "cell_type": "code",
   "execution_count": 2,
   "id": "18168e25",
   "metadata": {
    "execution": {
     "iopub.execute_input": "2022-09-30T12:47:08.313411Z",
     "iopub.status.busy": "2022-09-30T12:47:08.312959Z",
     "iopub.status.idle": "2022-09-30T12:47:08.325073Z",
     "shell.execute_reply": "2022-09-30T12:47:08.323976Z"
    },
    "papermill": {
     "duration": 0.021984,
     "end_time": "2022-09-30T12:47:08.327231",
     "exception": false,
     "start_time": "2022-09-30T12:47:08.305247",
     "status": "completed"
    },
    "tags": []
   },
   "outputs": [
    {
     "data": {
      "application/javascript": [
       "parent.postMessage({\"jupyterEvent\": \"custom.exercise_interaction\", \"data\": {\"outcomeType\": 1, \"valueTowardsCompletion\": 0.14285714285714285, \"interactionType\": 1, \"questionType\": 1, \"questionId\": \"1_MedianPoints\", \"learnToolsVersion\": \"0.3.4\", \"failureMessage\": \"\", \"exceptionClass\": \"\", \"trace\": \"\"}}, \"*\")"
      ],
      "text/plain": [
       "<IPython.core.display.Javascript object>"
      ]
     },
     "metadata": {},
     "output_type": "display_data"
    },
    {
     "data": {
      "text/markdown": [
       "<span style=\"color:#33cc33\">Correct</span>"
      ],
      "text/plain": [
       "Correct"
      ]
     },
     "metadata": {},
     "output_type": "display_data"
    }
   ],
   "source": [
    "median_points = reviews.points.median()\n",
    "\n",
    "# Check your answer\n",
    "q1.check()"
   ]
  },
  {
   "cell_type": "code",
   "execution_count": 3,
   "id": "ac8426e5",
   "metadata": {
    "execution": {
     "iopub.execute_input": "2022-09-30T12:47:08.342376Z",
     "iopub.status.busy": "2022-09-30T12:47:08.341958Z",
     "iopub.status.idle": "2022-09-30T12:47:08.346706Z",
     "shell.execute_reply": "2022-09-30T12:47:08.345635Z"
    },
    "papermill": {
     "duration": 0.015043,
     "end_time": "2022-09-30T12:47:08.349036",
     "exception": false,
     "start_time": "2022-09-30T12:47:08.333993",
     "status": "completed"
    },
    "tags": []
   },
   "outputs": [],
   "source": [
    "#q1.hint()\n",
    "#q1.solution()"
   ]
  },
  {
   "cell_type": "markdown",
   "id": "3057d744",
   "metadata": {
    "papermill": {
     "duration": 0.006328,
     "end_time": "2022-09-30T12:47:08.362105",
     "exception": false,
     "start_time": "2022-09-30T12:47:08.355777",
     "status": "completed"
    },
    "tags": []
   },
   "source": [
    "## 2. \n",
    "What countries are represented in the dataset? (Your answer should not include any duplicates.)"
   ]
  },
  {
   "cell_type": "code",
   "execution_count": 4,
   "id": "44852df2",
   "metadata": {
    "execution": {
     "iopub.execute_input": "2022-09-30T12:47:08.376712Z",
     "iopub.status.busy": "2022-09-30T12:47:08.376281Z",
     "iopub.status.idle": "2022-09-30T12:47:08.391923Z",
     "shell.execute_reply": "2022-09-30T12:47:08.390839Z"
    },
    "papermill": {
     "duration": 0.025791,
     "end_time": "2022-09-30T12:47:08.394351",
     "exception": false,
     "start_time": "2022-09-30T12:47:08.368560",
     "status": "completed"
    },
    "tags": []
   },
   "outputs": [
    {
     "data": {
      "application/javascript": [
       "parent.postMessage({\"jupyterEvent\": \"custom.exercise_interaction\", \"data\": {\"outcomeType\": 1, \"valueTowardsCompletion\": 0.14285714285714285, \"interactionType\": 1, \"questionType\": 2, \"questionId\": \"2_UniqueCountries\", \"learnToolsVersion\": \"0.3.4\", \"failureMessage\": \"\", \"exceptionClass\": \"\", \"trace\": \"\"}}, \"*\")"
      ],
      "text/plain": [
       "<IPython.core.display.Javascript object>"
      ]
     },
     "metadata": {},
     "output_type": "display_data"
    },
    {
     "data": {
      "text/markdown": [
       "<span style=\"color:#33cc33\">Correct</span>"
      ],
      "text/plain": [
       "Correct"
      ]
     },
     "metadata": {},
     "output_type": "display_data"
    }
   ],
   "source": [
    "countries = reviews.country.unique()\n",
    "\n",
    "# Check your answer\n",
    "q2.check()"
   ]
  },
  {
   "cell_type": "code",
   "execution_count": 5,
   "id": "255dea6a",
   "metadata": {
    "execution": {
     "iopub.execute_input": "2022-09-30T12:47:08.409568Z",
     "iopub.status.busy": "2022-09-30T12:47:08.409188Z",
     "iopub.status.idle": "2022-09-30T12:47:08.413233Z",
     "shell.execute_reply": "2022-09-30T12:47:08.412216Z"
    },
    "papermill": {
     "duration": 0.014297,
     "end_time": "2022-09-30T12:47:08.415463",
     "exception": false,
     "start_time": "2022-09-30T12:47:08.401166",
     "status": "completed"
    },
    "tags": []
   },
   "outputs": [],
   "source": [
    "#q2.hint()\n",
    "#q2.solution()"
   ]
  },
  {
   "cell_type": "markdown",
   "id": "9a32bf51",
   "metadata": {
    "papermill": {
     "duration": 0.006429,
     "end_time": "2022-09-30T12:47:08.428625",
     "exception": false,
     "start_time": "2022-09-30T12:47:08.422196",
     "status": "completed"
    },
    "tags": []
   },
   "source": [
    "## 3.\n",
    "How often does each country appear in the dataset? Create a Series `reviews_per_country` mapping countries to the count of reviews of wines from that country."
   ]
  },
  {
   "cell_type": "code",
   "execution_count": 6,
   "id": "161e707c",
   "metadata": {
    "execution": {
     "iopub.execute_input": "2022-09-30T12:47:08.445041Z",
     "iopub.status.busy": "2022-09-30T12:47:08.444654Z",
     "iopub.status.idle": "2022-09-30T12:47:08.462405Z",
     "shell.execute_reply": "2022-09-30T12:47:08.461641Z"
    },
    "papermill": {
     "duration": 0.027995,
     "end_time": "2022-09-30T12:47:08.464328",
     "exception": false,
     "start_time": "2022-09-30T12:47:08.436333",
     "status": "completed"
    },
    "tags": []
   },
   "outputs": [
    {
     "data": {
      "application/javascript": [
       "parent.postMessage({\"jupyterEvent\": \"custom.exercise_interaction\", \"data\": {\"outcomeType\": 1, \"valueTowardsCompletion\": 0.14285714285714285, \"interactionType\": 1, \"questionType\": 1, \"questionId\": \"3_ReviewsPerCountry\", \"learnToolsVersion\": \"0.3.4\", \"failureMessage\": \"\", \"exceptionClass\": \"\", \"trace\": \"\"}}, \"*\")"
      ],
      "text/plain": [
       "<IPython.core.display.Javascript object>"
      ]
     },
     "metadata": {},
     "output_type": "display_data"
    },
    {
     "data": {
      "text/markdown": [
       "<span style=\"color:#33cc33\">Correct</span>"
      ],
      "text/plain": [
       "Correct"
      ]
     },
     "metadata": {},
     "output_type": "display_data"
    }
   ],
   "source": [
    "reviews_per_country = reviews.country.value_counts()\n",
    "\n",
    "# Check your answer\n",
    "q3.check()"
   ]
  },
  {
   "cell_type": "code",
   "execution_count": 7,
   "id": "214370e4",
   "metadata": {
    "execution": {
     "iopub.execute_input": "2022-09-30T12:47:08.480287Z",
     "iopub.status.busy": "2022-09-30T12:47:08.479912Z",
     "iopub.status.idle": "2022-09-30T12:47:08.483790Z",
     "shell.execute_reply": "2022-09-30T12:47:08.482811Z"
    },
    "papermill": {
     "duration": 0.014383,
     "end_time": "2022-09-30T12:47:08.485810",
     "exception": false,
     "start_time": "2022-09-30T12:47:08.471427",
     "status": "completed"
    },
    "tags": []
   },
   "outputs": [],
   "source": [
    "#q3.hint()\n",
    "#q3.solution()"
   ]
  },
  {
   "cell_type": "markdown",
   "id": "fa568ea1",
   "metadata": {
    "papermill": {
     "duration": 0.006704,
     "end_time": "2022-09-30T12:47:08.499564",
     "exception": false,
     "start_time": "2022-09-30T12:47:08.492860",
     "status": "completed"
    },
    "tags": []
   },
   "source": [
    "## 4.\n",
    "Create variable `centered_price` containing a version of the `price` column with the mean price subtracted.\n",
    "\n",
    "(Note: this 'centering' transformation is a common preprocessing step before applying various machine learning algorithms.) "
   ]
  },
  {
   "cell_type": "code",
   "execution_count": 8,
   "id": "2979937d",
   "metadata": {
    "execution": {
     "iopub.execute_input": "2022-09-30T12:47:08.515520Z",
     "iopub.status.busy": "2022-09-30T12:47:08.514817Z",
     "iopub.status.idle": "2022-09-30T12:47:08.525501Z",
     "shell.execute_reply": "2022-09-30T12:47:08.524460Z"
    },
    "papermill": {
     "duration": 0.021099,
     "end_time": "2022-09-30T12:47:08.527614",
     "exception": false,
     "start_time": "2022-09-30T12:47:08.506515",
     "status": "completed"
    },
    "tags": []
   },
   "outputs": [
    {
     "data": {
      "application/javascript": [
       "parent.postMessage({\"jupyterEvent\": \"custom.exercise_interaction\", \"data\": {\"outcomeType\": 1, \"valueTowardsCompletion\": 0.14285714285714285, \"interactionType\": 1, \"questionType\": 1, \"questionId\": \"4_CenteredPrice\", \"learnToolsVersion\": \"0.3.4\", \"failureMessage\": \"\", \"exceptionClass\": \"\", \"trace\": \"\"}}, \"*\")"
      ],
      "text/plain": [
       "<IPython.core.display.Javascript object>"
      ]
     },
     "metadata": {},
     "output_type": "display_data"
    },
    {
     "data": {
      "text/markdown": [
       "<span style=\"color:#33cc33\">Correct</span>"
      ],
      "text/plain": [
       "Correct"
      ]
     },
     "metadata": {},
     "output_type": "display_data"
    }
   ],
   "source": [
    "price_mean = reviews.price.mean()\n",
    "centered_price = reviews.price - price_mean\n",
    "\n",
    "# Check your answer\n",
    "q4.check()"
   ]
  },
  {
   "cell_type": "code",
   "execution_count": 9,
   "id": "5276fa90",
   "metadata": {
    "execution": {
     "iopub.execute_input": "2022-09-30T12:47:08.545159Z",
     "iopub.status.busy": "2022-09-30T12:47:08.544105Z",
     "iopub.status.idle": "2022-09-30T12:47:08.548487Z",
     "shell.execute_reply": "2022-09-30T12:47:08.547670Z"
    },
    "papermill": {
     "duration": 0.015311,
     "end_time": "2022-09-30T12:47:08.550440",
     "exception": false,
     "start_time": "2022-09-30T12:47:08.535129",
     "status": "completed"
    },
    "tags": []
   },
   "outputs": [],
   "source": [
    "#q4.hint()\n",
    "#q4.solution()"
   ]
  },
  {
   "cell_type": "markdown",
   "id": "9bfe8436",
   "metadata": {
    "papermill": {
     "duration": 0.00676,
     "end_time": "2022-09-30T12:47:08.564297",
     "exception": false,
     "start_time": "2022-09-30T12:47:08.557537",
     "status": "completed"
    },
    "tags": []
   },
   "source": [
    "## 5.\n",
    "I'm an economical wine buyer. Which wine is the \"best bargain\"? Create a variable `bargain_wine` with the title of the wine with the highest points-to-price ratio in the dataset."
   ]
  },
  {
   "cell_type": "code",
   "execution_count": 10,
   "id": "18ee0277",
   "metadata": {
    "execution": {
     "iopub.execute_input": "2022-09-30T12:47:08.580352Z",
     "iopub.status.busy": "2022-09-30T12:47:08.579705Z",
     "iopub.status.idle": "2022-09-30T12:47:08.593262Z",
     "shell.execute_reply": "2022-09-30T12:47:08.592104Z"
    },
    "papermill": {
     "duration": 0.024319,
     "end_time": "2022-09-30T12:47:08.595737",
     "exception": false,
     "start_time": "2022-09-30T12:47:08.571418",
     "status": "completed"
    },
    "tags": []
   },
   "outputs": [
    {
     "data": {
      "application/javascript": [
       "parent.postMessage({\"jupyterEvent\": \"custom.exercise_interaction\", \"data\": {\"outcomeType\": 1, \"valueTowardsCompletion\": 0.14285714285714285, \"interactionType\": 1, \"questionType\": 2, \"questionId\": \"5_BargainWine\", \"learnToolsVersion\": \"0.3.4\", \"failureMessage\": \"\", \"exceptionClass\": \"\", \"trace\": \"\"}}, \"*\")"
      ],
      "text/plain": [
       "<IPython.core.display.Javascript object>"
      ]
     },
     "metadata": {},
     "output_type": "display_data"
    },
    {
     "data": {
      "text/markdown": [
       "<span style=\"color:#33cc33\">Correct</span>"
      ],
      "text/plain": [
       "Correct"
      ]
     },
     "metadata": {},
     "output_type": "display_data"
    }
   ],
   "source": [
    "best_bargain = (reviews.points / reviews.price).idxmax()\n",
    "bargain_wine = reviews.loc[best_bargain, 'title']\n",
    "\n",
    "# Check your answer\n",
    "q5.check()"
   ]
  },
  {
   "cell_type": "code",
   "execution_count": 11,
   "id": "625f28da",
   "metadata": {
    "execution": {
     "iopub.execute_input": "2022-09-30T12:47:08.613284Z",
     "iopub.status.busy": "2022-09-30T12:47:08.612062Z",
     "iopub.status.idle": "2022-09-30T12:47:08.616175Z",
     "shell.execute_reply": "2022-09-30T12:47:08.615501Z"
    },
    "papermill": {
     "duration": 0.014946,
     "end_time": "2022-09-30T12:47:08.618252",
     "exception": false,
     "start_time": "2022-09-30T12:47:08.603306",
     "status": "completed"
    },
    "tags": []
   },
   "outputs": [],
   "source": [
    "#q5.hint()\n",
    "#q5.solution()"
   ]
  },
  {
   "cell_type": "markdown",
   "id": "00a935c6",
   "metadata": {
    "papermill": {
     "duration": 0.007246,
     "end_time": "2022-09-30T12:47:08.633333",
     "exception": false,
     "start_time": "2022-09-30T12:47:08.626087",
     "status": "completed"
    },
    "tags": []
   },
   "source": [
    "## 6.\n",
    "There are only so many words you can use when describing a bottle of wine. Is a wine more likely to be \"tropical\" or \"fruity\"? Create a Series `descriptor_counts` counting how many times each of these two words appears in the `description` column in the dataset. (For simplicity, let's ignore the capitalized versions of these words.)"
   ]
  },
  {
   "cell_type": "code",
   "execution_count": 12,
   "id": "e1b1e00d",
   "metadata": {
    "execution": {
     "iopub.execute_input": "2022-09-30T12:47:08.650275Z",
     "iopub.status.busy": "2022-09-30T12:47:08.649856Z",
     "iopub.status.idle": "2022-09-30T12:47:08.790893Z",
     "shell.execute_reply": "2022-09-30T12:47:08.789971Z"
    },
    "papermill": {
     "duration": 0.152238,
     "end_time": "2022-09-30T12:47:08.792972",
     "exception": false,
     "start_time": "2022-09-30T12:47:08.640734",
     "status": "completed"
    },
    "tags": []
   },
   "outputs": [
    {
     "data": {
      "application/javascript": [
       "parent.postMessage({\"jupyterEvent\": \"custom.exercise_interaction\", \"data\": {\"outcomeType\": 1, \"valueTowardsCompletion\": 0.14285714285714285, \"interactionType\": 1, \"questionType\": 1, \"questionId\": \"6_DescriptorCounts\", \"learnToolsVersion\": \"0.3.4\", \"failureMessage\": \"\", \"exceptionClass\": \"\", \"trace\": \"\"}}, \"*\")"
      ],
      "text/plain": [
       "<IPython.core.display.Javascript object>"
      ]
     },
     "metadata": {},
     "output_type": "display_data"
    },
    {
     "data": {
      "text/markdown": [
       "<span style=\"color:#33cc33\">Correct</span>"
      ],
      "text/plain": [
       "Correct"
      ]
     },
     "metadata": {},
     "output_type": "display_data"
    }
   ],
   "source": [
    "tropical_num = reviews.description.map(lambda desc: \"tropical\" in desc).sum()\n",
    "fruity_num = reviews.description.map(lambda desc: \"fruity\" in desc).sum()\n",
    "descriptor_counts = pd.Series([tropical_num, fruity_num], index=['tropical', 'fruity'])\n",
    "\n",
    "# Check your answer\n",
    "q6.check()"
   ]
  },
  {
   "cell_type": "code",
   "execution_count": 13,
   "id": "da07ffc8",
   "metadata": {
    "execution": {
     "iopub.execute_input": "2022-09-30T12:47:08.810046Z",
     "iopub.status.busy": "2022-09-30T12:47:08.809680Z",
     "iopub.status.idle": "2022-09-30T12:47:08.814738Z",
     "shell.execute_reply": "2022-09-30T12:47:08.813845Z"
    },
    "papermill": {
     "duration": 0.016152,
     "end_time": "2022-09-30T12:47:08.816881",
     "exception": false,
     "start_time": "2022-09-30T12:47:08.800729",
     "status": "completed"
    },
    "tags": []
   },
   "outputs": [],
   "source": [
    "#q6.hint()\n",
    "#q6.solution()"
   ]
  },
  {
   "cell_type": "markdown",
   "id": "71047cf5",
   "metadata": {
    "papermill": {
     "duration": 0.007487,
     "end_time": "2022-09-30T12:47:08.832140",
     "exception": false,
     "start_time": "2022-09-30T12:47:08.824653",
     "status": "completed"
    },
    "tags": []
   },
   "source": [
    "## 7.\n",
    "We'd like to host these wine reviews on our website, but a rating system ranging from 80 to 100 points is too hard to understand - we'd like to translate them into simple star ratings. A score of 95 or higher counts as 3 stars, a score of at least 85 but less than 95 is 2 stars. Any other score is 1 star.\n",
    "\n",
    "Also, the Canadian Vintners Association bought a lot of ads on the site, so any wines from Canada should automatically get 3 stars, regardless of points.\n",
    "\n",
    "Create a series `star_ratings` with the number of stars corresponding to each review in the dataset."
   ]
  },
  {
   "cell_type": "code",
   "execution_count": 14,
   "id": "3e8be121",
   "metadata": {
    "execution": {
     "iopub.execute_input": "2022-09-30T12:47:08.849501Z",
     "iopub.status.busy": "2022-09-30T12:47:08.848855Z",
     "iopub.status.idle": "2022-09-30T12:47:13.835285Z",
     "shell.execute_reply": "2022-09-30T12:47:13.834219Z"
    },
    "papermill": {
     "duration": 4.997594,
     "end_time": "2022-09-30T12:47:13.837440",
     "exception": false,
     "start_time": "2022-09-30T12:47:08.839846",
     "status": "completed"
    },
    "tags": []
   },
   "outputs": [
    {
     "data": {
      "application/javascript": [
       "parent.postMessage({\"jupyterEvent\": \"custom.exercise_interaction\", \"data\": {\"outcomeType\": 1, \"valueTowardsCompletion\": 0.14285714285714285, \"interactionType\": 1, \"questionType\": 1, \"questionId\": \"7_StarRatings\", \"learnToolsVersion\": \"0.3.4\", \"failureMessage\": \"\", \"exceptionClass\": \"\", \"trace\": \"\"}}, \"*\")"
      ],
      "text/plain": [
       "<IPython.core.display.Javascript object>"
      ]
     },
     "metadata": {},
     "output_type": "display_data"
    },
    {
     "data": {
      "text/markdown": [
       "<span style=\"color:#33cc33\">Correct</span>"
      ],
      "text/plain": [
       "Correct"
      ]
     },
     "metadata": {},
     "output_type": "display_data"
    }
   ],
   "source": [
    "def starrating(row):\n",
    "    if row.country == 'Canada':\n",
    "        return 3\n",
    "    elif row.points >= 95:\n",
    "        return 3\n",
    "    elif row.points >= 85&row.points<95:\n",
    "        return 2\n",
    "    else:\n",
    "        return 1\n",
    "star_ratings = reviews.apply(starrating, axis='columns')\n",
    "# Check your answer\n",
    "q7.check()"
   ]
  },
  {
   "cell_type": "code",
   "execution_count": 15,
   "id": "b66a6f59",
   "metadata": {
    "execution": {
     "iopub.execute_input": "2022-09-30T12:47:13.856670Z",
     "iopub.status.busy": "2022-09-30T12:47:13.856232Z",
     "iopub.status.idle": "2022-09-30T12:47:13.860869Z",
     "shell.execute_reply": "2022-09-30T12:47:13.859848Z"
    },
    "papermill": {
     "duration": 0.017019,
     "end_time": "2022-09-30T12:47:13.862902",
     "exception": false,
     "start_time": "2022-09-30T12:47:13.845883",
     "status": "completed"
    },
    "tags": []
   },
   "outputs": [],
   "source": [
    "#q7.hint()\n",
    "#q7.solution()"
   ]
  },
  {
   "cell_type": "markdown",
   "id": "2415c87b",
   "metadata": {
    "papermill": {
     "duration": 0.007548,
     "end_time": "2022-09-30T12:47:13.878414",
     "exception": false,
     "start_time": "2022-09-30T12:47:13.870866",
     "status": "completed"
    },
    "tags": []
   },
   "source": [
    "# Keep going\n",
    "Continue to **[grouping and sorting](https://www.kaggle.com/residentmario/grouping-and-sorting)**."
   ]
  },
  {
   "cell_type": "markdown",
   "id": "4b9f8ea5",
   "metadata": {
    "papermill": {
     "duration": 0.007476,
     "end_time": "2022-09-30T12:47:13.893646",
     "exception": false,
     "start_time": "2022-09-30T12:47:13.886170",
     "status": "completed"
    },
    "tags": []
   },
   "source": [
    "---\n",
    "\n",
    "\n",
    "\n",
    "\n",
    "*Have questions or comments? Visit the [course discussion forum](https://www.kaggle.com/learn/pandas/discussion) to chat with other learners.*"
   ]
  }
 ],
 "metadata": {
  "kernelspec": {
   "display_name": "Python 3",
   "language": "python",
   "name": "python3"
  },
  "language_info": {
   "codemirror_mode": {
    "name": "ipython",
    "version": 3
   },
   "file_extension": ".py",
   "mimetype": "text/x-python",
   "name": "python",
   "nbconvert_exporter": "python",
   "pygments_lexer": "ipython3",
   "version": "3.7.12"
  },
  "papermill": {
   "default_parameters": {},
   "duration": 21.954309,
   "end_time": "2022-09-30T12:47:14.624220",
   "environment_variables": {},
   "exception": null,
   "input_path": "__notebook__.ipynb",
   "output_path": "__notebook__.ipynb",
   "parameters": {},
   "start_time": "2022-09-30T12:46:52.669911",
   "version": "2.3.4"
  }
 },
 "nbformat": 4,
 "nbformat_minor": 5
}
