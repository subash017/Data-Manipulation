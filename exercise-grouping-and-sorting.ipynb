{
 "cells": [
  {
   "cell_type": "markdown",
   "id": "df03e77f",
   "metadata": {
    "papermill": {
     "duration": 0.007053,
     "end_time": "2022-09-30T12:48:39.572807",
     "exception": false,
     "start_time": "2022-09-30T12:48:39.565754",
     "status": "completed"
    },
    "tags": []
   },
   "source": [
    "**This notebook is an exercise in the [Pandas](https://www.kaggle.com/learn/pandas) course.  You can reference the tutorial at [this link](https://www.kaggle.com/residentmario/grouping-and-sorting).**\n",
    "\n",
    "---\n"
   ]
  },
  {
   "cell_type": "markdown",
   "id": "bcefead5",
   "metadata": {
    "papermill": {
     "duration": 0.005682,
     "end_time": "2022-09-30T12:48:39.585518",
     "exception": false,
     "start_time": "2022-09-30T12:48:39.579836",
     "status": "completed"
    },
    "tags": []
   },
   "source": [
    "# Introduction\n",
    "\n",
    "In these exercises we'll apply groupwise analysis to our dataset.\n",
    "\n",
    "Run the code cell below to load the data before running the exercises."
   ]
  },
  {
   "cell_type": "code",
   "execution_count": 1,
   "id": "668c314c",
   "metadata": {
    "execution": {
     "iopub.execute_input": "2022-09-30T12:48:39.601254Z",
     "iopub.status.busy": "2022-09-30T12:48:39.600611Z",
     "iopub.status.idle": "2022-09-30T12:48:42.767046Z",
     "shell.execute_reply": "2022-09-30T12:48:42.765610Z"
    },
    "papermill": {
     "duration": 3.178306,
     "end_time": "2022-09-30T12:48:42.770084",
     "exception": false,
     "start_time": "2022-09-30T12:48:39.591778",
     "status": "completed"
    },
    "tags": []
   },
   "outputs": [
    {
     "name": "stdout",
     "output_type": "stream",
     "text": [
      "Setup complete.\n"
     ]
    }
   ],
   "source": [
    "import pandas as pd\n",
    "\n",
    "reviews = pd.read_csv(\"../input/wine-reviews/winemag-data-130k-v2.csv\", index_col=0)\n",
    "#pd.set_option(\"display.max_rows\", 5)\n",
    "\n",
    "from learntools.core import binder; binder.bind(globals())\n",
    "from learntools.pandas.grouping_and_sorting import *\n",
    "print(\"Setup complete.\")"
   ]
  },
  {
   "cell_type": "markdown",
   "id": "66849a35",
   "metadata": {
    "papermill": {
     "duration": 0.005553,
     "end_time": "2022-09-30T12:48:42.781910",
     "exception": false,
     "start_time": "2022-09-30T12:48:42.776357",
     "status": "completed"
    },
    "tags": []
   },
   "source": [
    "# Exercises"
   ]
  },
  {
   "cell_type": "markdown",
   "id": "761bee78",
   "metadata": {
    "papermill": {
     "duration": 0.005665,
     "end_time": "2022-09-30T12:48:42.793514",
     "exception": false,
     "start_time": "2022-09-30T12:48:42.787849",
     "status": "completed"
    },
    "tags": []
   },
   "source": [
    "## 1.\n",
    "Who are the most common wine reviewers in the dataset? Create a `Series` whose index is the `taster_twitter_handle` category from the dataset, and whose values count how many reviews each person wrote."
   ]
  },
  {
   "cell_type": "code",
   "execution_count": 2,
   "id": "0dd80db9",
   "metadata": {
    "execution": {
     "iopub.execute_input": "2022-09-30T12:48:42.807942Z",
     "iopub.status.busy": "2022-09-30T12:48:42.807324Z",
     "iopub.status.idle": "2022-09-30T12:48:42.838560Z",
     "shell.execute_reply": "2022-09-30T12:48:42.837329Z"
    },
    "papermill": {
     "duration": 0.04101,
     "end_time": "2022-09-30T12:48:42.840787",
     "exception": false,
     "start_time": "2022-09-30T12:48:42.799777",
     "status": "completed"
    },
    "tags": []
   },
   "outputs": [
    {
     "data": {
      "application/javascript": [
       "parent.postMessage({\"jupyterEvent\": \"custom.exercise_interaction\", \"data\": {\"outcomeType\": 1, \"valueTowardsCompletion\": 0.16666666666666666, \"interactionType\": 1, \"questionType\": 1, \"questionId\": \"1_ReviewsWritten\", \"learnToolsVersion\": \"0.3.4\", \"failureMessage\": \"\", \"exceptionClass\": \"\", \"trace\": \"\"}}, \"*\")"
      ],
      "text/plain": [
       "<IPython.core.display.Javascript object>"
      ]
     },
     "metadata": {},
     "output_type": "display_data"
    },
    {
     "data": {
      "text/markdown": [
       "<span style=\"color:#33cc33\">Correct:</span> \n",
       "\n",
       "\n",
       "```python\n",
       "reviews_written = reviews.groupby('taster_twitter_handle').size()\n",
       "```\n",
       "or\n",
       "```python\n",
       "reviews_written = reviews.groupby('taster_twitter_handle').taster_twitter_handle.count()\n",
       "```\n"
      ],
      "text/plain": [
       "Correct: \n",
       "\n",
       "\n",
       "```python\n",
       "reviews_written = reviews.groupby('taster_twitter_handle').size()\n",
       "```\n",
       "or\n",
       "```python\n",
       "reviews_written = reviews.groupby('taster_twitter_handle').taster_twitter_handle.count()\n",
       "```"
      ]
     },
     "metadata": {},
     "output_type": "display_data"
    }
   ],
   "source": [
    "# Your code here\n",
    "reviews_written = reviews.groupby('taster_twitter_handle').taster_twitter_handle.count()\n",
    "\n",
    "# Check your answer\n",
    "q1.check()"
   ]
  },
  {
   "cell_type": "code",
   "execution_count": 3,
   "id": "1416ab1b",
   "metadata": {
    "execution": {
     "iopub.execute_input": "2022-09-30T12:48:42.855081Z",
     "iopub.status.busy": "2022-09-30T12:48:42.854647Z",
     "iopub.status.idle": "2022-09-30T12:48:42.859815Z",
     "shell.execute_reply": "2022-09-30T12:48:42.857911Z"
    },
    "papermill": {
     "duration": 0.01575,
     "end_time": "2022-09-30T12:48:42.862708",
     "exception": false,
     "start_time": "2022-09-30T12:48:42.846958",
     "status": "completed"
    },
    "tags": []
   },
   "outputs": [],
   "source": [
    "#q1.hint()\n",
    "#q1.solution()"
   ]
  },
  {
   "cell_type": "markdown",
   "id": "193bfc3e",
   "metadata": {
    "papermill": {
     "duration": 0.006023,
     "end_time": "2022-09-30T12:48:42.875403",
     "exception": false,
     "start_time": "2022-09-30T12:48:42.869380",
     "status": "completed"
    },
    "tags": []
   },
   "source": [
    "## 2.\n",
    "What is the best wine I can buy for a given amount of money? Create a `Series` whose index is wine prices and whose values is the maximum number of points a wine costing that much was given in a review. Sort the values by price, ascending (so that `4.0` dollars is at the top and `3300.0` dollars is at the bottom)."
   ]
  },
  {
   "cell_type": "code",
   "execution_count": 4,
   "id": "ede9d2d1",
   "metadata": {
    "execution": {
     "iopub.execute_input": "2022-09-30T12:48:42.890062Z",
     "iopub.status.busy": "2022-09-30T12:48:42.889349Z",
     "iopub.status.idle": "2022-09-30T12:48:42.904033Z",
     "shell.execute_reply": "2022-09-30T12:48:42.903074Z"
    },
    "papermill": {
     "duration": 0.024669,
     "end_time": "2022-09-30T12:48:42.906182",
     "exception": false,
     "start_time": "2022-09-30T12:48:42.881513",
     "status": "completed"
    },
    "tags": []
   },
   "outputs": [
    {
     "data": {
      "application/javascript": [
       "parent.postMessage({\"jupyterEvent\": \"custom.exercise_interaction\", \"data\": {\"outcomeType\": 1, \"valueTowardsCompletion\": 0.16666666666666666, \"interactionType\": 1, \"questionType\": 1, \"questionId\": \"2_BestRatingPerPrice\", \"learnToolsVersion\": \"0.3.4\", \"failureMessage\": \"\", \"exceptionClass\": \"\", \"trace\": \"\"}}, \"*\")"
      ],
      "text/plain": [
       "<IPython.core.display.Javascript object>"
      ]
     },
     "metadata": {},
     "output_type": "display_data"
    },
    {
     "data": {
      "text/markdown": [
       "<span style=\"color:#33cc33\">Correct</span>"
      ],
      "text/plain": [
       "Correct"
      ]
     },
     "metadata": {},
     "output_type": "display_data"
    }
   ],
   "source": [
    "best_rating_per_price = reviews.groupby('price')['points'].max().sort_index()\n",
    "\n",
    "# Check your answer\n",
    "q2.check()"
   ]
  },
  {
   "cell_type": "code",
   "execution_count": 5,
   "id": "908eeddb",
   "metadata": {
    "execution": {
     "iopub.execute_input": "2022-09-30T12:48:42.921453Z",
     "iopub.status.busy": "2022-09-30T12:48:42.920519Z",
     "iopub.status.idle": "2022-09-30T12:48:42.925513Z",
     "shell.execute_reply": "2022-09-30T12:48:42.924369Z"
    },
    "papermill": {
     "duration": 0.015328,
     "end_time": "2022-09-30T12:48:42.927985",
     "exception": false,
     "start_time": "2022-09-30T12:48:42.912657",
     "status": "completed"
    },
    "tags": []
   },
   "outputs": [],
   "source": [
    "#q2.hint()\n",
    "#q2.solution()"
   ]
  },
  {
   "cell_type": "markdown",
   "id": "f20e9436",
   "metadata": {
    "papermill": {
     "duration": 0.006676,
     "end_time": "2022-09-30T12:48:42.941950",
     "exception": false,
     "start_time": "2022-09-30T12:48:42.935274",
     "status": "completed"
    },
    "tags": []
   },
   "source": [
    "## 3.\n",
    "What are the minimum and maximum prices for each `variety` of wine? Create a `DataFrame` whose index is the `variety` category from the dataset and whose values are the `min` and `max` values thereof."
   ]
  },
  {
   "cell_type": "code",
   "execution_count": 6,
   "id": "133698e1",
   "metadata": {
    "execution": {
     "iopub.execute_input": "2022-09-30T12:48:42.959622Z",
     "iopub.status.busy": "2022-09-30T12:48:42.958451Z",
     "iopub.status.idle": "2022-09-30T12:48:42.987872Z",
     "shell.execute_reply": "2022-09-30T12:48:42.986325Z"
    },
    "papermill": {
     "duration": 0.041655,
     "end_time": "2022-09-30T12:48:42.991237",
     "exception": false,
     "start_time": "2022-09-30T12:48:42.949582",
     "status": "completed"
    },
    "tags": []
   },
   "outputs": [
    {
     "data": {
      "application/javascript": [
       "parent.postMessage({\"jupyterEvent\": \"custom.exercise_interaction\", \"data\": {\"outcomeType\": 1, \"valueTowardsCompletion\": 0.16666666666666666, \"interactionType\": 1, \"questionType\": 1, \"questionId\": \"3_PriceExtremes\", \"learnToolsVersion\": \"0.3.4\", \"failureMessage\": \"\", \"exceptionClass\": \"\", \"trace\": \"\"}}, \"*\")"
      ],
      "text/plain": [
       "<IPython.core.display.Javascript object>"
      ]
     },
     "metadata": {},
     "output_type": "display_data"
    },
    {
     "data": {
      "text/markdown": [
       "<span style=\"color:#33cc33\">Correct</span>"
      ],
      "text/plain": [
       "Correct"
      ]
     },
     "metadata": {},
     "output_type": "display_data"
    }
   ],
   "source": [
    "price_extremes = reviews.groupby('variety').price.agg([min, max])\n",
    "\n",
    "# Check your answer\n",
    "q3.check()"
   ]
  },
  {
   "cell_type": "code",
   "execution_count": 7,
   "id": "cbc3f132",
   "metadata": {
    "execution": {
     "iopub.execute_input": "2022-09-30T12:48:43.006841Z",
     "iopub.status.busy": "2022-09-30T12:48:43.006439Z",
     "iopub.status.idle": "2022-09-30T12:48:43.012508Z",
     "shell.execute_reply": "2022-09-30T12:48:43.010878Z"
    },
    "papermill": {
     "duration": 0.017081,
     "end_time": "2022-09-30T12:48:43.015220",
     "exception": false,
     "start_time": "2022-09-30T12:48:42.998139",
     "status": "completed"
    },
    "tags": []
   },
   "outputs": [],
   "source": [
    "#q3.hint()\n",
    "#q3.solution()"
   ]
  },
  {
   "cell_type": "markdown",
   "id": "e83aa03e",
   "metadata": {
    "papermill": {
     "duration": 0.006296,
     "end_time": "2022-09-30T12:48:43.028416",
     "exception": false,
     "start_time": "2022-09-30T12:48:43.022120",
     "status": "completed"
    },
    "tags": []
   },
   "source": [
    "## 4.\n",
    "What are the most expensive wine varieties? Create a variable `sorted_varieties` containing a copy of the dataframe from the previous question where varieties are sorted in descending order based on minimum price, then on maximum price (to break ties)."
   ]
  },
  {
   "cell_type": "code",
   "execution_count": 8,
   "id": "b829a54a",
   "metadata": {
    "execution": {
     "iopub.execute_input": "2022-09-30T12:48:43.043685Z",
     "iopub.status.busy": "2022-09-30T12:48:43.043282Z",
     "iopub.status.idle": "2022-09-30T12:48:43.056097Z",
     "shell.execute_reply": "2022-09-30T12:48:43.055074Z"
    },
    "papermill": {
     "duration": 0.023491,
     "end_time": "2022-09-30T12:48:43.058638",
     "exception": false,
     "start_time": "2022-09-30T12:48:43.035147",
     "status": "completed"
    },
    "tags": []
   },
   "outputs": [
    {
     "data": {
      "application/javascript": [
       "parent.postMessage({\"jupyterEvent\": \"custom.exercise_interaction\", \"data\": {\"outcomeType\": 1, \"valueTowardsCompletion\": 0.16666666666666666, \"interactionType\": 1, \"questionType\": 1, \"questionId\": \"4_SortedVarieties\", \"learnToolsVersion\": \"0.3.4\", \"failureMessage\": \"\", \"exceptionClass\": \"\", \"trace\": \"\"}}, \"*\")"
      ],
      "text/plain": [
       "<IPython.core.display.Javascript object>"
      ]
     },
     "metadata": {},
     "output_type": "display_data"
    },
    {
     "data": {
      "text/markdown": [
       "<span style=\"color:#33cc33\">Correct</span>"
      ],
      "text/plain": [
       "Correct"
      ]
     },
     "metadata": {},
     "output_type": "display_data"
    }
   ],
   "source": [
    "sorted_varieties = price_extremes.sort_values(by=['min', 'max'], ascending=False)\n",
    "\n",
    "# Check your answer\n",
    "q4.check()"
   ]
  },
  {
   "cell_type": "code",
   "execution_count": 9,
   "id": "b394824d",
   "metadata": {
    "execution": {
     "iopub.execute_input": "2022-09-30T12:48:43.075425Z",
     "iopub.status.busy": "2022-09-30T12:48:43.075006Z",
     "iopub.status.idle": "2022-09-30T12:48:43.080599Z",
     "shell.execute_reply": "2022-09-30T12:48:43.078823Z"
    },
    "papermill": {
     "duration": 0.017419,
     "end_time": "2022-09-30T12:48:43.083316",
     "exception": false,
     "start_time": "2022-09-30T12:48:43.065897",
     "status": "completed"
    },
    "tags": []
   },
   "outputs": [],
   "source": [
    "#q4.hint()\n",
    "#q4.solution()"
   ]
  },
  {
   "cell_type": "markdown",
   "id": "5142334e",
   "metadata": {
    "papermill": {
     "duration": 0.007064,
     "end_time": "2022-09-30T12:48:43.097806",
     "exception": false,
     "start_time": "2022-09-30T12:48:43.090742",
     "status": "completed"
    },
    "tags": []
   },
   "source": [
    "## 5.\n",
    "Create a `Series` whose index is reviewers and whose values is the average review score given out by that reviewer. Hint: you will need the `taster_name` and `points` columns."
   ]
  },
  {
   "cell_type": "code",
   "execution_count": 10,
   "id": "219ae296",
   "metadata": {
    "execution": {
     "iopub.execute_input": "2022-09-30T12:48:43.113837Z",
     "iopub.status.busy": "2022-09-30T12:48:43.113397Z",
     "iopub.status.idle": "2022-09-30T12:48:43.135579Z",
     "shell.execute_reply": "2022-09-30T12:48:43.134257Z"
    },
    "papermill": {
     "duration": 0.033415,
     "end_time": "2022-09-30T12:48:43.138400",
     "exception": false,
     "start_time": "2022-09-30T12:48:43.104985",
     "status": "completed"
    },
    "tags": []
   },
   "outputs": [
    {
     "data": {
      "application/javascript": [
       "parent.postMessage({\"jupyterEvent\": \"custom.exercise_interaction\", \"data\": {\"outcomeType\": 1, \"valueTowardsCompletion\": 0.16666666666666666, \"interactionType\": 1, \"questionType\": 1, \"questionId\": \"5_ReviewerMeanRatings\", \"learnToolsVersion\": \"0.3.4\", \"failureMessage\": \"\", \"exceptionClass\": \"\", \"trace\": \"\"}}, \"*\")"
      ],
      "text/plain": [
       "<IPython.core.display.Javascript object>"
      ]
     },
     "metadata": {},
     "output_type": "display_data"
    },
    {
     "data": {
      "text/markdown": [
       "<span style=\"color:#33cc33\">Correct</span>"
      ],
      "text/plain": [
       "Correct"
      ]
     },
     "metadata": {},
     "output_type": "display_data"
    }
   ],
   "source": [
    "reviewer_mean_ratings = reviews.groupby('taster_name').points.mean()\n",
    "\n",
    "# Check your answer\n",
    "q5.check()"
   ]
  },
  {
   "cell_type": "code",
   "execution_count": 11,
   "id": "63219bc6",
   "metadata": {
    "execution": {
     "iopub.execute_input": "2022-09-30T12:48:43.154714Z",
     "iopub.status.busy": "2022-09-30T12:48:43.154292Z",
     "iopub.status.idle": "2022-09-30T12:48:43.159328Z",
     "shell.execute_reply": "2022-09-30T12:48:43.158166Z"
    },
    "papermill": {
     "duration": 0.015989,
     "end_time": "2022-09-30T12:48:43.161647",
     "exception": false,
     "start_time": "2022-09-30T12:48:43.145658",
     "status": "completed"
    },
    "tags": []
   },
   "outputs": [],
   "source": [
    "#q5.hint()\n",
    "#q5.solution()"
   ]
  },
  {
   "cell_type": "markdown",
   "id": "99d1f8da",
   "metadata": {
    "papermill": {
     "duration": 0.007327,
     "end_time": "2022-09-30T12:48:43.176194",
     "exception": false,
     "start_time": "2022-09-30T12:48:43.168867",
     "status": "completed"
    },
    "tags": []
   },
   "source": [
    "Are there significant differences in the average scores assigned by the various reviewers? Run the cell below to use the `describe()` method to see a summary of the range of values."
   ]
  },
  {
   "cell_type": "code",
   "execution_count": 12,
   "id": "4d5238e3",
   "metadata": {
    "execution": {
     "iopub.execute_input": "2022-09-30T12:48:43.193096Z",
     "iopub.status.busy": "2022-09-30T12:48:43.192651Z",
     "iopub.status.idle": "2022-09-30T12:48:43.207273Z",
     "shell.execute_reply": "2022-09-30T12:48:43.205670Z"
    },
    "papermill": {
     "duration": 0.026806,
     "end_time": "2022-09-30T12:48:43.210264",
     "exception": false,
     "start_time": "2022-09-30T12:48:43.183458",
     "status": "completed"
    },
    "tags": []
   },
   "outputs": [
    {
     "data": {
      "text/plain": [
       "count    19.000000\n",
       "mean     88.233026\n",
       "std       1.243610\n",
       "min      85.855422\n",
       "25%      87.323501\n",
       "50%      88.536235\n",
       "75%      88.975256\n",
       "max      90.562551\n",
       "Name: points, dtype: float64"
      ]
     },
     "execution_count": 12,
     "metadata": {},
     "output_type": "execute_result"
    }
   ],
   "source": [
    "reviewer_mean_ratings.describe()"
   ]
  },
  {
   "cell_type": "markdown",
   "id": "504ad660",
   "metadata": {
    "papermill": {
     "duration": 0.007074,
     "end_time": "2022-09-30T12:48:43.225563",
     "exception": false,
     "start_time": "2022-09-30T12:48:43.218489",
     "status": "completed"
    },
    "tags": []
   },
   "source": [
    "## 6.\n",
    "What combination of countries and varieties are most common? Create a `Series` whose index is a `MultiIndex`of `{country, variety}` pairs. For example, a pinot noir produced in the US should map to `{\"US\", \"Pinot Noir\"}`. Sort the values in the `Series` in descending order based on wine count."
   ]
  },
  {
   "cell_type": "code",
   "execution_count": 13,
   "id": "e0f35a11",
   "metadata": {
    "execution": {
     "iopub.execute_input": "2022-09-30T12:48:43.243202Z",
     "iopub.status.busy": "2022-09-30T12:48:43.242770Z",
     "iopub.status.idle": "2022-09-30T12:48:43.277221Z",
     "shell.execute_reply": "2022-09-30T12:48:43.276192Z"
    },
    "papermill": {
     "duration": 0.046708,
     "end_time": "2022-09-30T12:48:43.279828",
     "exception": false,
     "start_time": "2022-09-30T12:48:43.233120",
     "status": "completed"
    },
    "tags": []
   },
   "outputs": [
    {
     "data": {
      "application/javascript": [
       "parent.postMessage({\"jupyterEvent\": \"custom.exercise_interaction\", \"data\": {\"outcomeType\": 1, \"valueTowardsCompletion\": 0.16666666666666666, \"interactionType\": 1, \"questionType\": 1, \"questionId\": \"6_GroupbyCountryVariety\", \"learnToolsVersion\": \"0.3.4\", \"failureMessage\": \"\", \"exceptionClass\": \"\", \"trace\": \"\"}}, \"*\")"
      ],
      "text/plain": [
       "<IPython.core.display.Javascript object>"
      ]
     },
     "metadata": {},
     "output_type": "display_data"
    },
    {
     "data": {
      "text/markdown": [
       "<span style=\"color:#33cc33\">Correct</span>"
      ],
      "text/plain": [
       "Correct"
      ]
     },
     "metadata": {},
     "output_type": "display_data"
    }
   ],
   "source": [
    "country_variety_counts = reviews.groupby(['country', 'variety']).size().sort_values(ascending=False)\n",
    "\n",
    "# Check your answer\n",
    "q6.check()"
   ]
  },
  {
   "cell_type": "code",
   "execution_count": 14,
   "id": "69a631bf",
   "metadata": {
    "execution": {
     "iopub.execute_input": "2022-09-30T12:48:43.298043Z",
     "iopub.status.busy": "2022-09-30T12:48:43.297586Z",
     "iopub.status.idle": "2022-09-30T12:48:43.302639Z",
     "shell.execute_reply": "2022-09-30T12:48:43.301474Z"
    },
    "papermill": {
     "duration": 0.017735,
     "end_time": "2022-09-30T12:48:43.305218",
     "exception": false,
     "start_time": "2022-09-30T12:48:43.287483",
     "status": "completed"
    },
    "tags": []
   },
   "outputs": [],
   "source": [
    "#q6.hint()\n",
    "#q6.solution()"
   ]
  },
  {
   "cell_type": "markdown",
   "id": "c28a7bb4",
   "metadata": {
    "papermill": {
     "duration": 0.007105,
     "end_time": "2022-09-30T12:48:43.320297",
     "exception": false,
     "start_time": "2022-09-30T12:48:43.313192",
     "status": "completed"
    },
    "tags": []
   },
   "source": [
    "# Keep going\n",
    "\n",
    "Move on to the [**data types and missing data**](https://www.kaggle.com/residentmario/data-types-and-missing-values)."
   ]
  },
  {
   "cell_type": "markdown",
   "id": "09425979",
   "metadata": {
    "papermill": {
     "duration": 0.007008,
     "end_time": "2022-09-30T12:48:43.334858",
     "exception": false,
     "start_time": "2022-09-30T12:48:43.327850",
     "status": "completed"
    },
    "tags": []
   },
   "source": [
    "---\n",
    "\n",
    "\n",
    "\n",
    "\n",
    "*Have questions or comments? Visit the [course discussion forum](https://www.kaggle.com/learn/pandas/discussion) to chat with other learners.*"
   ]
  }
 ],
 "metadata": {
  "kernelspec": {
   "display_name": "Python 3",
   "language": "python",
   "name": "python3"
  },
  "language_info": {
   "codemirror_mode": {
    "name": "ipython",
    "version": 3
   },
   "file_extension": ".py",
   "mimetype": "text/x-python",
   "name": "python",
   "nbconvert_exporter": "python",
   "pygments_lexer": "ipython3",
   "version": "3.7.12"
  },
  "papermill": {
   "default_parameters": {},
   "duration": 16.028329,
   "end_time": "2022-09-30T12:48:44.065559",
   "environment_variables": {},
   "exception": null,
   "input_path": "__notebook__.ipynb",
   "output_path": "__notebook__.ipynb",
   "parameters": {},
   "start_time": "2022-09-30T12:48:28.037230",
   "version": "2.3.4"
  }
 },
 "nbformat": 4,
 "nbformat_minor": 5
}
