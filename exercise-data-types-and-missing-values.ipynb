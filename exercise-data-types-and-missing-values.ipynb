{
 "cells": [
  {
   "cell_type": "markdown",
   "id": "78899bd0",
   "metadata": {
    "papermill": {
     "duration": 0.006394,
     "end_time": "2022-09-30T12:51:46.921301",
     "exception": false,
     "start_time": "2022-09-30T12:51:46.914907",
     "status": "completed"
    },
    "tags": []
   },
   "source": [
    "**This notebook is an exercise in the [Pandas](https://www.kaggle.com/learn/pandas) course.  You can reference the tutorial at [this link](https://www.kaggle.com/residentmario/data-types-and-missing-values).**\n",
    "\n",
    "---\n"
   ]
  },
  {
   "cell_type": "markdown",
   "id": "235a1262",
   "metadata": {
    "papermill": {
     "duration": 0.004226,
     "end_time": "2022-09-30T12:51:46.930273",
     "exception": false,
     "start_time": "2022-09-30T12:51:46.926047",
     "status": "completed"
    },
    "tags": []
   },
   "source": [
    "# Introduction\n",
    "\n",
    "Run the following cell to load your data and some utility functions."
   ]
  },
  {
   "cell_type": "code",
   "execution_count": 1,
   "id": "a06ec4c8",
   "metadata": {
    "execution": {
     "iopub.execute_input": "2022-09-30T12:51:46.942918Z",
     "iopub.status.busy": "2022-09-30T12:51:46.941797Z",
     "iopub.status.idle": "2022-09-30T12:51:50.219069Z",
     "shell.execute_reply": "2022-09-30T12:51:50.217188Z"
    },
    "papermill": {
     "duration": 3.287595,
     "end_time": "2022-09-30T12:51:50.222766",
     "exception": false,
     "start_time": "2022-09-30T12:51:46.935171",
     "status": "completed"
    },
    "tags": []
   },
   "outputs": [
    {
     "name": "stdout",
     "output_type": "stream",
     "text": [
      "Setup complete.\n"
     ]
    }
   ],
   "source": [
    "import pandas as pd\n",
    "\n",
    "reviews = pd.read_csv(\"../input/wine-reviews/winemag-data-130k-v2.csv\", index_col=0)\n",
    "\n",
    "from learntools.core import binder; binder.bind(globals())\n",
    "from learntools.pandas.data_types_and_missing_data import *\n",
    "print(\"Setup complete.\")"
   ]
  },
  {
   "cell_type": "markdown",
   "id": "28adcabf",
   "metadata": {
    "papermill": {
     "duration": 0.004415,
     "end_time": "2022-09-30T12:51:50.232325",
     "exception": false,
     "start_time": "2022-09-30T12:51:50.227910",
     "status": "completed"
    },
    "tags": []
   },
   "source": [
    "# Exercises"
   ]
  },
  {
   "cell_type": "markdown",
   "id": "72710946",
   "metadata": {
    "papermill": {
     "duration": 0.004251,
     "end_time": "2022-09-30T12:51:50.241305",
     "exception": false,
     "start_time": "2022-09-30T12:51:50.237054",
     "status": "completed"
    },
    "tags": []
   },
   "source": [
    "## 1. \n",
    "What is the data type of the `points` column in the dataset?"
   ]
  },
  {
   "cell_type": "code",
   "execution_count": 2,
   "id": "3c6cc939",
   "metadata": {
    "execution": {
     "iopub.execute_input": "2022-09-30T12:51:50.252681Z",
     "iopub.status.busy": "2022-09-30T12:51:50.252227Z",
     "iopub.status.idle": "2022-09-30T12:51:50.264061Z",
     "shell.execute_reply": "2022-09-30T12:51:50.262784Z"
    },
    "papermill": {
     "duration": 0.021274,
     "end_time": "2022-09-30T12:51:50.267056",
     "exception": false,
     "start_time": "2022-09-30T12:51:50.245782",
     "status": "completed"
    },
    "tags": []
   },
   "outputs": [
    {
     "data": {
      "application/javascript": [
       "parent.postMessage({\"jupyterEvent\": \"custom.exercise_interaction\", \"data\": {\"outcomeType\": 1, \"valueTowardsCompletion\": 0.25, \"interactionType\": 1, \"questionType\": 1, \"questionId\": \"1_PointsDtype\", \"learnToolsVersion\": \"0.3.4\", \"failureMessage\": \"\", \"exceptionClass\": \"\", \"trace\": \"\"}}, \"*\")"
      ],
      "text/plain": [
       "<IPython.core.display.Javascript object>"
      ]
     },
     "metadata": {},
     "output_type": "display_data"
    },
    {
     "data": {
      "text/markdown": [
       "<span style=\"color:#33cc33\">Correct</span>"
      ],
      "text/plain": [
       "Correct"
      ]
     },
     "metadata": {},
     "output_type": "display_data"
    }
   ],
   "source": [
    "# Your code here\n",
    "dtype = reviews.points.dtype\n",
    "\n",
    "# Check your answer\n",
    "q1.check()"
   ]
  },
  {
   "cell_type": "code",
   "execution_count": 3,
   "id": "8ee086e6",
   "metadata": {
    "execution": {
     "iopub.execute_input": "2022-09-30T12:51:50.279693Z",
     "iopub.status.busy": "2022-09-30T12:51:50.278645Z",
     "iopub.status.idle": "2022-09-30T12:51:50.283881Z",
     "shell.execute_reply": "2022-09-30T12:51:50.282923Z"
    },
    "papermill": {
     "duration": 0.013765,
     "end_time": "2022-09-30T12:51:50.286128",
     "exception": false,
     "start_time": "2022-09-30T12:51:50.272363",
     "status": "completed"
    },
    "tags": []
   },
   "outputs": [],
   "source": [
    "#q1.hint()\n",
    "#q1.solution()"
   ]
  },
  {
   "cell_type": "markdown",
   "id": "5591c37c",
   "metadata": {
    "papermill": {
     "duration": 0.004976,
     "end_time": "2022-09-30T12:51:50.296006",
     "exception": false,
     "start_time": "2022-09-30T12:51:50.291030",
     "status": "completed"
    },
    "tags": []
   },
   "source": [
    "## 2. \n",
    "Create a Series from entries in the `points` column, but convert the entries to strings. Hint: strings are `str` in native Python."
   ]
  },
  {
   "cell_type": "code",
   "execution_count": 4,
   "id": "fbfa7c4b",
   "metadata": {
    "execution": {
     "iopub.execute_input": "2022-09-30T12:51:50.308682Z",
     "iopub.status.busy": "2022-09-30T12:51:50.307779Z",
     "iopub.status.idle": "2022-09-30T12:51:50.405288Z",
     "shell.execute_reply": "2022-09-30T12:51:50.404154Z"
    },
    "papermill": {
     "duration": 0.106188,
     "end_time": "2022-09-30T12:51:50.407739",
     "exception": false,
     "start_time": "2022-09-30T12:51:50.301551",
     "status": "completed"
    },
    "tags": []
   },
   "outputs": [
    {
     "data": {
      "application/javascript": [
       "parent.postMessage({\"jupyterEvent\": \"custom.exercise_interaction\", \"data\": {\"outcomeType\": 1, \"valueTowardsCompletion\": 0.25, \"interactionType\": 1, \"questionType\": 1, \"questionId\": \"2_StrPoints\", \"learnToolsVersion\": \"0.3.4\", \"failureMessage\": \"\", \"exceptionClass\": \"\", \"trace\": \"\"}}, \"*\")"
      ],
      "text/plain": [
       "<IPython.core.display.Javascript object>"
      ]
     },
     "metadata": {},
     "output_type": "display_data"
    },
    {
     "data": {
      "text/markdown": [
       "<span style=\"color:#33cc33\">Correct</span>"
      ],
      "text/plain": [
       "Correct"
      ]
     },
     "metadata": {},
     "output_type": "display_data"
    }
   ],
   "source": [
    "point_strings = reviews.points.astype(str)\n",
    "\n",
    "# Check your answer\n",
    "q2.check()"
   ]
  },
  {
   "cell_type": "code",
   "execution_count": 5,
   "id": "d4ae34d6",
   "metadata": {
    "execution": {
     "iopub.execute_input": "2022-09-30T12:51:50.419946Z",
     "iopub.status.busy": "2022-09-30T12:51:50.419547Z",
     "iopub.status.idle": "2022-09-30T12:51:50.424446Z",
     "shell.execute_reply": "2022-09-30T12:51:50.422999Z"
    },
    "papermill": {
     "duration": 0.014231,
     "end_time": "2022-09-30T12:51:50.427177",
     "exception": false,
     "start_time": "2022-09-30T12:51:50.412946",
     "status": "completed"
    },
    "tags": []
   },
   "outputs": [],
   "source": [
    "#q2.hint()\n",
    "#q2.solution()"
   ]
  },
  {
   "cell_type": "markdown",
   "id": "19369478",
   "metadata": {
    "papermill": {
     "duration": 0.004817,
     "end_time": "2022-09-30T12:51:50.437314",
     "exception": false,
     "start_time": "2022-09-30T12:51:50.432497",
     "status": "completed"
    },
    "tags": []
   },
   "source": [
    "## 3.\n",
    "Sometimes the price column is null. How many reviews in the dataset are missing a price?"
   ]
  },
  {
   "cell_type": "code",
   "execution_count": 6,
   "id": "dc07c35c",
   "metadata": {
    "execution": {
     "iopub.execute_input": "2022-09-30T12:51:50.449675Z",
     "iopub.status.busy": "2022-09-30T12:51:50.449263Z",
     "iopub.status.idle": "2022-09-30T12:51:50.460572Z",
     "shell.execute_reply": "2022-09-30T12:51:50.459329Z"
    },
    "papermill": {
     "duration": 0.020257,
     "end_time": "2022-09-30T12:51:50.463155",
     "exception": false,
     "start_time": "2022-09-30T12:51:50.442898",
     "status": "completed"
    },
    "tags": []
   },
   "outputs": [
    {
     "data": {
      "application/javascript": [
       "parent.postMessage({\"jupyterEvent\": \"custom.exercise_interaction\", \"data\": {\"outcomeType\": 1, \"valueTowardsCompletion\": 0.25, \"interactionType\": 1, \"questionType\": 1, \"questionId\": \"3_CountMissingPrices\", \"learnToolsVersion\": \"0.3.4\", \"failureMessage\": \"\", \"exceptionClass\": \"\", \"trace\": \"\"}}, \"*\")"
      ],
      "text/plain": [
       "<IPython.core.display.Javascript object>"
      ]
     },
     "metadata": {},
     "output_type": "display_data"
    },
    {
     "data": {
      "text/markdown": [
       "<span style=\"color:#33cc33\">Correct</span>"
      ],
      "text/plain": [
       "Correct"
      ]
     },
     "metadata": {},
     "output_type": "display_data"
    }
   ],
   "source": [
    "n_missing_prices =pd.isnull(reviews.price).sum()\n",
    "\n",
    "# Check your answer\n",
    "q3.check()"
   ]
  },
  {
   "cell_type": "code",
   "execution_count": 7,
   "id": "1274f743",
   "metadata": {
    "execution": {
     "iopub.execute_input": "2022-09-30T12:51:50.476764Z",
     "iopub.status.busy": "2022-09-30T12:51:50.475443Z",
     "iopub.status.idle": "2022-09-30T12:51:50.480839Z",
     "shell.execute_reply": "2022-09-30T12:51:50.479720Z"
    },
    "papermill": {
     "duration": 0.014581,
     "end_time": "2022-09-30T12:51:50.483287",
     "exception": false,
     "start_time": "2022-09-30T12:51:50.468706",
     "status": "completed"
    },
    "tags": []
   },
   "outputs": [],
   "source": [
    "#q3.hint()\n",
    "#q3.solution()"
   ]
  },
  {
   "cell_type": "markdown",
   "id": "56239ba0",
   "metadata": {
    "papermill": {
     "duration": 0.004912,
     "end_time": "2022-09-30T12:51:50.493496",
     "exception": false,
     "start_time": "2022-09-30T12:51:50.488584",
     "status": "completed"
    },
    "tags": []
   },
   "source": [
    "## 4.\n",
    "What are the most common wine-producing regions? Create a Series counting the number of times each value occurs in the `region_1` field. This field is often missing data, so replace missing values with `Unknown`. Sort in descending order.  Your output should look something like this:\n",
    "\n",
    "```\n",
    "Unknown                    21247\n",
    "Napa Valley                 4480\n",
    "                           ...  \n",
    "Bardolino Superiore            1\n",
    "Primitivo del Tarantino        1\n",
    "Name: region_1, Length: 1230, dtype: int64\n",
    "```"
   ]
  },
  {
   "cell_type": "code",
   "execution_count": 8,
   "id": "ca0d5ffc",
   "metadata": {
    "execution": {
     "iopub.execute_input": "2022-09-30T12:51:50.507379Z",
     "iopub.status.busy": "2022-09-30T12:51:50.506671Z",
     "iopub.status.idle": "2022-09-30T12:51:50.550891Z",
     "shell.execute_reply": "2022-09-30T12:51:50.549709Z"
    },
    "papermill": {
     "duration": 0.054655,
     "end_time": "2022-09-30T12:51:50.553298",
     "exception": false,
     "start_time": "2022-09-30T12:51:50.498643",
     "status": "completed"
    },
    "tags": []
   },
   "outputs": [
    {
     "data": {
      "application/javascript": [
       "parent.postMessage({\"jupyterEvent\": \"custom.exercise_interaction\", \"data\": {\"outcomeType\": 1, \"valueTowardsCompletion\": 0.25, \"interactionType\": 1, \"questionType\": 2, \"questionId\": \"4_ReviewsPerRegion\", \"learnToolsVersion\": \"0.3.4\", \"failureMessage\": \"\", \"exceptionClass\": \"\", \"trace\": \"\"}}, \"*\")"
      ],
      "text/plain": [
       "<IPython.core.display.Javascript object>"
      ]
     },
     "metadata": {},
     "output_type": "display_data"
    },
    {
     "data": {
      "text/markdown": [
       "<span style=\"color:#33cc33\">Correct</span>"
      ],
      "text/plain": [
       "Correct"
      ]
     },
     "metadata": {},
     "output_type": "display_data"
    }
   ],
   "source": [
    "reviews_per_region = reviews.region_1.fillna('Unknown').value_counts().sort_values(ascending=False)\n",
    "\n",
    "# Check your answer\n",
    "q4.check()"
   ]
  },
  {
   "cell_type": "code",
   "execution_count": 9,
   "id": "a3481ef6",
   "metadata": {
    "execution": {
     "iopub.execute_input": "2022-09-30T12:51:50.566254Z",
     "iopub.status.busy": "2022-09-30T12:51:50.565846Z",
     "iopub.status.idle": "2022-09-30T12:51:50.570280Z",
     "shell.execute_reply": "2022-09-30T12:51:50.569041Z"
    },
    "papermill": {
     "duration": 0.013964,
     "end_time": "2022-09-30T12:51:50.572782",
     "exception": false,
     "start_time": "2022-09-30T12:51:50.558818",
     "status": "completed"
    },
    "tags": []
   },
   "outputs": [],
   "source": [
    "#q4.hint()\n",
    "#q4.solution()"
   ]
  },
  {
   "cell_type": "markdown",
   "id": "e79fd276",
   "metadata": {
    "papermill": {
     "duration": 0.005142,
     "end_time": "2022-09-30T12:51:50.583570",
     "exception": false,
     "start_time": "2022-09-30T12:51:50.578428",
     "status": "completed"
    },
    "tags": []
   },
   "source": [
    "# Keep going\n",
    "\n",
    "Move on to **[renaming and combining](https://www.kaggle.com/residentmario/renaming-and-combining)**."
   ]
  },
  {
   "cell_type": "markdown",
   "id": "03d2eca3",
   "metadata": {
    "papermill": {
     "duration": 0.005098,
     "end_time": "2022-09-30T12:51:50.593956",
     "exception": false,
     "start_time": "2022-09-30T12:51:50.588858",
     "status": "completed"
    },
    "tags": []
   },
   "source": [
    "---\n",
    "\n",
    "\n",
    "\n",
    "\n",
    "*Have questions or comments? Visit the [course discussion forum](https://www.kaggle.com/learn/pandas/discussion) to chat with other learners.*"
   ]
  }
 ],
 "metadata": {
  "kernelspec": {
   "display_name": "Python 3",
   "language": "python",
   "name": "python3"
  },
  "language_info": {
   "codemirror_mode": {
    "name": "ipython",
    "version": 3
   },
   "file_extension": ".py",
   "mimetype": "text/x-python",
   "name": "python",
   "nbconvert_exporter": "python",
   "pygments_lexer": "ipython3",
   "version": "3.7.12"
  },
  "papermill": {
   "default_parameters": {},
   "duration": 14.294141,
   "end_time": "2022-09-30T12:51:51.321203",
   "environment_variables": {},
   "exception": null,
   "input_path": "__notebook__.ipynb",
   "output_path": "__notebook__.ipynb",
   "parameters": {},
   "start_time": "2022-09-30T12:51:37.027062",
   "version": "2.3.4"
  }
 },
 "nbformat": 4,
 "nbformat_minor": 5
}
